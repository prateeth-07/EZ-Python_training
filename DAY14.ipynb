{
 "cells": [
  {
   "cell_type": "markdown",
   "id": "485c2624",
   "metadata": {},
   "source": [
    "### BELLMANFORD ALGO (DIRECTED GRAPHS) - DYN PROGMG"
   ]
  },
  {
   "cell_type": "code",
   "execution_count": 15,
   "id": "b7f73663",
   "metadata": {},
   "outputs": [
    {
     "name": "stdout",
     "output_type": "stream",
     "text": [
      "[(0, 1), (0, 2), (0, 3), (1, 4), (2, 1), (2, 4), (3, 2), (3, 5), (4, 5)]\n",
      "{0: 0, 1: inf, 2: inf, 3: inf, 4: inf, 5: inf}\n",
      "{0: 0, 1: 1, 2: 3, 3: 5, 4: 0, 5: 3}\n"
     ]
    }
   ],
   "source": [
    "G=[\n",
    "    [0,6,4,5,False,False],\n",
    "    [False,False,False,False,-1,False],\n",
    "    [False,-2,0,False,3,False],\n",
    "    [False,False,-2,0,False,-1],\n",
    "    [False,False,False,False,0,3],\n",
    "    [False,False,False,False,False,0]\n",
    "]\n",
    "#d={0:\"A\",1:\"B\",2:\"C\",3:\"D\",4:\"E\",5:\"F\"}\n",
    "E_L=[]\n",
    "for i in range(len(G)):\n",
    "    for j in range(len(G[i])):\n",
    "        if G[i][j]!=False and G[i][j]!=0:\n",
    "            E_L.append(tuple((i,j)))\n",
    "print(E_L)    \n",
    "dist={}\n",
    "for i in range(len(G)):\n",
    "    dist[i]=float(\"inf\")\n",
    "    \n",
    "dist[0]=0\n",
    "print(dist)\n",
    "for i in range(len(G)-1):\n",
    "    for j in E_L:\n",
    "        new_dist=dist[j[0]]+G[j[0]][j[1]]\n",
    "        if dist[j[1]]>new_dist:\n",
    "            dist[j[1]]=new_dist \n",
    "            \n",
    "print(dist)\n",
    "            "
   ]
  },
  {
   "cell_type": "markdown",
   "id": "e76acfee",
   "metadata": {},
   "source": [
    "### TRAVELLING SALESMAN"
   ]
  },
  {
   "cell_type": "code",
   "execution_count": 16,
   "id": "116b32ac",
   "metadata": {},
   "outputs": [],
   "source": [
    "#dp's memoization"
   ]
  },
  {
   "cell_type": "code",
   "execution_count": 17,
   "id": "e29bfb65",
   "metadata": {},
   "outputs": [
    {
     "name": "stdout",
     "output_type": "stream",
     "text": [
      "minimum cost  19\n",
      "(3, (0, 1, 2, 3))\n",
      "(4, (0, 1, 2, 4))\n",
      "(2, (0, 1, 2))\n",
      "(2, (0, 1, 3, 2))\n",
      "(4, (0, 1, 3, 4))\n",
      "(3, (0, 1, 3))\n",
      "(2, (0, 1, 4, 2))\n",
      "(3, (0, 1, 4, 3))\n",
      "(4, (0, 1, 4))\n",
      "(1, (0, 1))\n",
      "(3, (0, 2, 1, 3))\n",
      "(4, (0, 2, 1, 4))\n",
      "(1, (0, 2, 1))\n",
      "(1, (0, 2, 3, 1))\n",
      "(4, (0, 2, 3, 4))\n",
      "(3, (0, 2, 3))\n",
      "(1, (0, 2, 4, 1))\n",
      "(3, (0, 2, 4, 3))\n",
      "(4, (0, 2, 4))\n",
      "(2, (0, 2))\n",
      "(2, (0, 3, 1, 2))\n",
      "(4, (0, 3, 1, 4))\n",
      "(1, (0, 3, 1))\n",
      "(1, (0, 3, 2, 1))\n",
      "(4, (0, 3, 2, 4))\n",
      "(2, (0, 3, 2))\n",
      "(1, (0, 3, 4, 1))\n",
      "(2, (0, 3, 4, 2))\n",
      "(4, (0, 3, 4))\n",
      "(3, (0, 3))\n",
      "(2, (0, 4, 1, 2))\n",
      "(3, (0, 4, 1, 3))\n",
      "(1, (0, 4, 1))\n",
      "(1, (0, 4, 2, 1))\n",
      "(3, (0, 4, 2, 3))\n",
      "(2, (0, 4, 2))\n",
      "(1, (0, 4, 3, 1))\n",
      "(2, (0, 4, 3, 2))\n",
      "(3, (0, 4, 3))\n",
      "(4, (0, 4))\n",
      "(0, (0,))\n"
     ]
    }
   ],
   "source": [
    "import sys\n",
    "def cost(curr,visited,G,DP):\n",
    "    n=len(G)\n",
    "    if len(visited)==n:\n",
    "        return G[curr][0]\n",
    "    \n",
    "    visit=tuple(visited)\n",
    "    if (curr,visit) in DP:\n",
    "        return DP[(curr,visit)]\n",
    "    \n",
    "    mini=sys.maxsize\n",
    "    \n",
    "    for i in range(n):\n",
    "        if i not in visited:\n",
    "            new_visit=visited+[i]\n",
    "            new_cost=G[curr][i]+cost(i,new_visit,G,DP)\n",
    "            mini=min(mini,new_cost)\n",
    "    DP[(curr,visit)]=mini\n",
    "    return mini\n",
    "    \n",
    "G=[\n",
    "    [0,4,7,5,5],\n",
    "    [4,0,2,3,8],\n",
    "    [7,2,0,3,4],\n",
    "    [5,3,3,0,6],\n",
    "    [5,8,4,6,0]\n",
    "]\n",
    "\n",
    "n=len(G)\n",
    "dp={}\n",
    "print(\"minimum cost \",cost(0,[0],G,dp))\n",
    "for i in dp:\n",
    "    print(i)"
   ]
  },
  {
   "cell_type": "code",
   "execution_count": 18,
   "id": "252668e8",
   "metadata": {},
   "outputs": [],
   "source": [
    "# dp's tabulation"
   ]
  }
 ],
 "metadata": {
  "kernelspec": {
   "display_name": "Python 3 (ipykernel)",
   "language": "python",
   "name": "python3"
  },
  "language_info": {
   "codemirror_mode": {
    "name": "ipython",
    "version": 3
   },
   "file_extension": ".py",
   "mimetype": "text/x-python",
   "name": "python",
   "nbconvert_exporter": "python",
   "pygments_lexer": "ipython3",
   "version": "3.11.5"
  }
 },
 "nbformat": 4,
 "nbformat_minor": 5
}

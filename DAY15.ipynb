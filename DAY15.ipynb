{
 "cells": [
  {
   "cell_type": "code",
   "execution_count": null,
   "id": "fb15c0c3",
   "metadata": {},
   "outputs": [],
   "source": [
    "#string repition"
   ]
  },
  {
   "cell_type": "code",
   "execution_count": 4,
   "id": "91ada673",
   "metadata": {},
   "outputs": [
    {
     "name": "stdout",
     "output_type": "stream",
     "text": [
      "BCA\n",
      "[13, 16]\n"
     ]
    }
   ],
   "source": [
    "s=\"ABABACDEABABABCABCABCBDAA\"\n",
    "p=input()\n",
    "n=len(p)\n",
    "index=[]\n",
    "for i in range(len(s)):\n",
    "    if s[i:i+n]==p:\n",
    "        index.append(i)\n",
    "\n",
    "print(index)\n",
    "    "
   ]
  },
  {
   "cell_type": "code",
   "execution_count": 3,
   "id": "a7e080fa",
   "metadata": {},
   "outputs": [
    {
     "name": "stdout",
     "output_type": "stream",
     "text": [
      "[0, 0, 1, 2]\n",
      "pattern found 0\n",
      "pattern found 8\n",
      "pattern found 10\n"
     ]
    }
   ],
   "source": [
    "def kmp_alg(p,s):\n",
    "    m=len(p)\n",
    "    N=len(s)\n",
    "    lps=[]\n",
    "    LPS(p,m,lps)\n",
    "    print(lps)\n",
    "    i=0\n",
    "    j=0\n",
    "    while(N-i)>=(m-j):\n",
    "        if p[j] == s[i]:\n",
    "            i+=1\n",
    "            j+=1\n",
    "            \n",
    "        if j==m:\n",
    "            print(\"pattern found\",i-j)\n",
    "            j=lps[j-1]\n",
    "            \n",
    "        elif i<N and p[j]!=s[i]:\n",
    "            if j!=0:\n",
    "                j=lps[j-1]\n",
    "            else:\n",
    "                i+=1\n",
    "        \n",
    "\n",
    "def LPS(p,m,lps):\n",
    "    lps.append(0)\n",
    "    j=0\n",
    "    for i in range(1,len(p)):\n",
    "        if p[i]==p[j]:\n",
    "            lps.append(j+1)\n",
    "            j=j+1\n",
    "        else:\n",
    "            j=0\n",
    "            lps.append(j)\n",
    "if __name__==\"__main__\":\n",
    "    s=\"ABABACDEABABABCABCABCBDAA\"\n",
    "    p=\"ABAB\"\n",
    "    kmp_alg(p,s)\n",
    "    "
   ]
  },
  {
   "cell_type": "code",
   "execution_count": 20,
   "id": "5b593123",
   "metadata": {},
   "outputs": [
    {
     "name": "stdout",
     "output_type": "stream",
     "text": [
      "3\n",
      "move 1 from A to B\n",
      "move 2 from A to C\n",
      "move 1 from B to C\n",
      "move 3 from A to B\n",
      "move 1 from C to A\n",
      "move 2 from C to B\n",
      "move 1 from A to B\n",
      "[7]\n"
     ]
    }
   ],
   "source": [
    "ctr=[0]\n",
    "n=int(input())\n",
    "def tower(n,frm,to,aux,ctr):\n",
    "    if n==0:\n",
    "        return\n",
    "    tower(n-1,frm,aux,to,ctr)\n",
    "    print(f\"move {n} from {frm} to {to}\")\n",
    "    ctr[0]+=1\n",
    "    tower(n-1,aux,to,frm,ctr)\n",
    "    \n",
    "\n",
    "tower(n,'A','B','C',ctr)\n",
    "print(ctr)\n",
    "          "
   ]
  }
 ],
 "metadata": {
  "kernelspec": {
   "display_name": "Python 3 (ipykernel)",
   "language": "python",
   "name": "python3"
  },
  "language_info": {
   "codemirror_mode": {
    "name": "ipython",
    "version": 3
   },
   "file_extension": ".py",
   "mimetype": "text/x-python",
   "name": "python",
   "nbconvert_exporter": "python",
   "pygments_lexer": "ipython3",
   "version": "3.11.5"
  }
 },
 "nbformat": 4,
 "nbformat_minor": 5
}

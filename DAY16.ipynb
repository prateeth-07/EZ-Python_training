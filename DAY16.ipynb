{
 "cells": [
  {
   "cell_type": "markdown",
   "id": "8b604857",
   "metadata": {},
   "source": [
    "### (open hashing)"
   ]
  },
  {
   "cell_type": "code",
   "execution_count": null,
   "id": "0f21bbd5",
   "metadata": {},
   "outputs": [],
   "source": [
    "class Node:\n",
    "    def __init__(self,data):\n",
    "        self.value=data\n",
    "        self.next=None\n",
    "        \n",
    "    def insert_end(self):\n",
    "        Tail.next=Temp\n",
    "        Tail=Temp\n",
    "    \n",
    "    def del_mid(self):\n",
    "        prev.next=curr.next\n",
    "        return\n",
    "    \n",
    "    def search(data):\n",
    "        curr=self.head\n",
    "        while curr!=None:\n",
    "            if curr        \n",
    "        \n",
    "        \n",
    "        \n",
    "        \n",
    "        "
   ]
  },
  {
   "cell_type": "markdown",
   "id": "fbe66336",
   "metadata": {},
   "source": [
    "### LINEAR PROBING(closed hashing)"
   ]
  },
  {
   "cell_type": "code",
   "execution_count": 8,
   "id": "a559d208",
   "metadata": {},
   "outputs": [
    {
     "name": "stdout",
     "output_type": "stream",
     "text": [
      "8\n",
      "9\n",
      "3\n",
      "2\n",
      "7\n",
      "10\n",
      "0\n",
      "4\n",
      "11\n",
      "12\n",
      "1\n",
      "5\n",
      "6\n",
      "[39, 98, 15, 16, 56, 94, 41, 20, 47, 22, 7, 62, 100]\n"
     ]
    }
   ],
   "source": [
    "k=[47,22,16,15,20,7,39,56,62,100,98,94,41]\n",
    "#hk=[False]*10\n",
    "hk=[False for i in range(len(k))]\n",
    "n=len(k)\n",
    "\n",
    "for i in k:\n",
    "    h_k = i % n\n",
    "    #print (hk)\n",
    "    for j in range(len(k)):\n",
    "        h1_k=(h_k+j)% n\n",
    "        if hk[h1_k] ==False:\n",
    "            hk[h1_k]=i\n",
    "            break\n",
    "    print(h1_k)\n",
    "print(hk)"
   ]
  },
  {
   "cell_type": "code",
   "execution_count": null,
   "id": "07082403",
   "metadata": {},
   "outputs": [],
   "source": []
  }
 ],
 "metadata": {
  "kernelspec": {
   "display_name": "Python 3 (ipykernel)",
   "language": "python",
   "name": "python3"
  },
  "language_info": {
   "codemirror_mode": {
    "name": "ipython",
    "version": 3
   },
   "file_extension": ".py",
   "mimetype": "text/x-python",
   "name": "python",
   "nbconvert_exporter": "python",
   "pygments_lexer": "ipython3",
   "version": "3.11.5"
  }
 },
 "nbformat": 4,
 "nbformat_minor": 5
}
